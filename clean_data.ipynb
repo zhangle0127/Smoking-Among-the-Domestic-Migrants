{
 "cells": [
  {
   "cell_type": "code",
   "execution_count": 1,
   "metadata": {
    "collapsed": true
   },
   "outputs": [],
   "source": [
    "import pandas as pd\n",
    "import os"
   ]
  },
  {
   "cell_type": "code",
   "execution_count": 2,
   "metadata": {
    "collapsed": true
   },
   "outputs": [],
   "source": [
    "path='/Users/zhangle/百度云同步盘/工作/floating/floatingpopulation/floatdata/2012/2012part'"
   ]
  },
  {
   "cell_type": "code",
   "execution_count": 3,
   "metadata": {
    "collapsed": false
   },
   "outputs": [],
   "source": [
    "os.chdir(path)"
   ]
  },
  {
   "cell_type": "code",
   "execution_count": 4,
   "metadata": {
    "collapsed": false,
    "scrolled": false
   },
   "outputs": [],
   "source": [
    "part1=pd.read_csv('2012年流动人口动态监测调查第一部分基本情况.csv',encoding='gbk',low_memory=False)"
   ]
  },
  {
   "cell_type": "code",
   "execution_count": 5,
   "metadata": {
    "collapsed": true
   },
   "outputs": [],
   "source": [
    "part2=pd.read_csv('2012年流动人口动态监测调查第二部分就业、居住和医保.csv',encoding='gbk',low_memory=False)"
   ]
  },
  {
   "cell_type": "code",
   "execution_count": 6,
   "metadata": {
    "collapsed": false,
    "scrolled": false
   },
   "outputs": [],
   "source": [
    "part4=pd.read_csv('2012年流动人口动态监测调查第四部分生活与感受.csv',encoding='gbk',low_memory=False)"
   ]
  },
  {
   "cell_type": "code",
   "execution_count": 7,
   "metadata": {
    "collapsed": false,
    "scrolled": true
   },
   "outputs": [],
   "source": [
    "part12=pd.merge(part1,part2,on='id')"
   ]
  },
  {
   "cell_type": "code",
   "execution_count": 8,
   "metadata": {
    "collapsed": true
   },
   "outputs": [],
   "source": [
    "floatsmoke = pd.merge(part12,part4,on='id')"
   ]
  },
  {
   "cell_type": "code",
   "execution_count": 9,
   "metadata": {
    "collapsed": false,
    "scrolled": true
   },
   "outputs": [
    {
     "data": {
      "text/plain": [
       "158556"
      ]
     },
     "execution_count": 9,
     "metadata": {},
     "output_type": "execute_result"
    }
   ],
   "source": [
    "n = len(floatsmoke)\n",
    "n"
   ]
  },
  {
   "cell_type": "code",
   "execution_count": 10,
   "metadata": {
    "collapsed": false,
    "scrolled": true
   },
   "outputs": [
    {
     "data": {
      "text/html": [
       "<div>\n",
       "<table border=\"1\" class=\"dataframe\">\n",
       "  <thead>\n",
       "    <tr style=\"text-align: right;\">\n",
       "      <th>q404f1</th>\n",
       "      <th>否</th>\n",
       "      <th>是</th>\n",
       "    </tr>\n",
       "    <tr>\n",
       "      <th>pro_name</th>\n",
       "      <th></th>\n",
       "      <th></th>\n",
       "    </tr>\n",
       "  </thead>\n",
       "  <tbody>\n",
       "    <tr>\n",
       "      <th>上海市</th>\n",
       "      <td>0.773494</td>\n",
       "      <td>0.226506</td>\n",
       "    </tr>\n",
       "    <tr>\n",
       "      <th>云南省</th>\n",
       "      <td>0.641032</td>\n",
       "      <td>0.358968</td>\n",
       "    </tr>\n",
       "    <tr>\n",
       "      <th>兵团</th>\n",
       "      <td>0.672488</td>\n",
       "      <td>0.327512</td>\n",
       "    </tr>\n",
       "    <tr>\n",
       "      <th>内蒙古自治区</th>\n",
       "      <td>0.655388</td>\n",
       "      <td>0.344612</td>\n",
       "    </tr>\n",
       "    <tr>\n",
       "      <th>北京市</th>\n",
       "      <td>0.772272</td>\n",
       "      <td>0.227728</td>\n",
       "    </tr>\n",
       "    <tr>\n",
       "      <th>吉林省</th>\n",
       "      <td>0.726340</td>\n",
       "      <td>0.273660</td>\n",
       "    </tr>\n",
       "    <tr>\n",
       "      <th>四川省</th>\n",
       "      <td>0.705029</td>\n",
       "      <td>0.294971</td>\n",
       "    </tr>\n",
       "    <tr>\n",
       "      <th>天津市</th>\n",
       "      <td>0.703109</td>\n",
       "      <td>0.296891</td>\n",
       "    </tr>\n",
       "    <tr>\n",
       "      <th>宁夏</th>\n",
       "      <td>0.732482</td>\n",
       "      <td>0.267518</td>\n",
       "    </tr>\n",
       "    <tr>\n",
       "      <th>安徽省</th>\n",
       "      <td>0.757439</td>\n",
       "      <td>0.242561</td>\n",
       "    </tr>\n",
       "    <tr>\n",
       "      <th>山东省</th>\n",
       "      <td>0.832164</td>\n",
       "      <td>0.167836</td>\n",
       "    </tr>\n",
       "    <tr>\n",
       "      <th>山西省</th>\n",
       "      <td>0.701856</td>\n",
       "      <td>0.298144</td>\n",
       "    </tr>\n",
       "    <tr>\n",
       "      <th>广东省</th>\n",
       "      <td>0.772098</td>\n",
       "      <td>0.227902</td>\n",
       "    </tr>\n",
       "    <tr>\n",
       "      <th>广西壮族自治区</th>\n",
       "      <td>0.721471</td>\n",
       "      <td>0.278529</td>\n",
       "    </tr>\n",
       "    <tr>\n",
       "      <th>新疆维吾尔自治区</th>\n",
       "      <td>0.710083</td>\n",
       "      <td>0.289917</td>\n",
       "    </tr>\n",
       "    <tr>\n",
       "      <th>江苏省</th>\n",
       "      <td>0.763108</td>\n",
       "      <td>0.236892</td>\n",
       "    </tr>\n",
       "    <tr>\n",
       "      <th>江西省</th>\n",
       "      <td>0.756642</td>\n",
       "      <td>0.243358</td>\n",
       "    </tr>\n",
       "    <tr>\n",
       "      <th>河北省</th>\n",
       "      <td>0.669254</td>\n",
       "      <td>0.330746</td>\n",
       "    </tr>\n",
       "    <tr>\n",
       "      <th>河南省</th>\n",
       "      <td>0.748311</td>\n",
       "      <td>0.251689</td>\n",
       "    </tr>\n",
       "    <tr>\n",
       "      <th>浙江省</th>\n",
       "      <td>0.724262</td>\n",
       "      <td>0.275738</td>\n",
       "    </tr>\n",
       "    <tr>\n",
       "      <th>海南省</th>\n",
       "      <td>0.679009</td>\n",
       "      <td>0.320991</td>\n",
       "    </tr>\n",
       "    <tr>\n",
       "      <th>湖北省</th>\n",
       "      <td>0.746864</td>\n",
       "      <td>0.253136</td>\n",
       "    </tr>\n",
       "    <tr>\n",
       "      <th>湖南省</th>\n",
       "      <td>0.694021</td>\n",
       "      <td>0.305979</td>\n",
       "    </tr>\n",
       "    <tr>\n",
       "      <th>甘肃省</th>\n",
       "      <td>0.692115</td>\n",
       "      <td>0.307885</td>\n",
       "    </tr>\n",
       "    <tr>\n",
       "      <th>福建省</th>\n",
       "      <td>0.734434</td>\n",
       "      <td>0.265566</td>\n",
       "    </tr>\n",
       "    <tr>\n",
       "      <th>西藏自治区</th>\n",
       "      <td>0.693619</td>\n",
       "      <td>0.306381</td>\n",
       "    </tr>\n",
       "    <tr>\n",
       "      <th>贵州省</th>\n",
       "      <td>0.634067</td>\n",
       "      <td>0.365933</td>\n",
       "    </tr>\n",
       "    <tr>\n",
       "      <th>辽宁省</th>\n",
       "      <td>0.700500</td>\n",
       "      <td>0.299500</td>\n",
       "    </tr>\n",
       "    <tr>\n",
       "      <th>重庆市</th>\n",
       "      <td>0.712034</td>\n",
       "      <td>0.287966</td>\n",
       "    </tr>\n",
       "    <tr>\n",
       "      <th>陕西省</th>\n",
       "      <td>0.699299</td>\n",
       "      <td>0.300701</td>\n",
       "    </tr>\n",
       "    <tr>\n",
       "      <th>青海省</th>\n",
       "      <td>0.738587</td>\n",
       "      <td>0.261413</td>\n",
       "    </tr>\n",
       "    <tr>\n",
       "      <th>黑龙江省</th>\n",
       "      <td>0.703630</td>\n",
       "      <td>0.296370</td>\n",
       "    </tr>\n",
       "  </tbody>\n",
       "</table>\n",
       "</div>"
      ],
      "text/plain": [
       "q404f1           否         是\n",
       "pro_name                    \n",
       "上海市       0.773494  0.226506\n",
       "云南省       0.641032  0.358968\n",
       "兵团        0.672488  0.327512\n",
       "内蒙古自治区    0.655388  0.344612\n",
       "北京市       0.772272  0.227728\n",
       "吉林省       0.726340  0.273660\n",
       "四川省       0.705029  0.294971\n",
       "天津市       0.703109  0.296891\n",
       "宁夏        0.732482  0.267518\n",
       "安徽省       0.757439  0.242561\n",
       "山东省       0.832164  0.167836\n",
       "山西省       0.701856  0.298144\n",
       "广东省       0.772098  0.227902\n",
       "广西壮族自治区   0.721471  0.278529\n",
       "新疆维吾尔自治区  0.710083  0.289917\n",
       "江苏省       0.763108  0.236892\n",
       "江西省       0.756642  0.243358\n",
       "河北省       0.669254  0.330746\n",
       "河南省       0.748311  0.251689\n",
       "浙江省       0.724262  0.275738\n",
       "海南省       0.679009  0.320991\n",
       "湖北省       0.746864  0.253136\n",
       "湖南省       0.694021  0.305979\n",
       "甘肃省       0.692115  0.307885\n",
       "福建省       0.734434  0.265566\n",
       "西藏自治区     0.693619  0.306381\n",
       "贵州省       0.634067  0.365933\n",
       "辽宁省       0.700500  0.299500\n",
       "重庆市       0.712034  0.287966\n",
       "陕西省       0.699299  0.300701\n",
       "青海省       0.738587  0.261413\n",
       "黑龙江省      0.703630  0.296370"
      ]
     },
     "execution_count": 10,
     "metadata": {},
     "output_type": "execute_result"
    }
   ],
   "source": [
    "# 二维列联表 floatsmoke.pro_name省份\n",
    "pd.crosstab(floatsmoke.pro_name, floatsmoke.q404f1).apply(lambda r: r/r.sum(),axis=1)"
   ]
  },
  {
   "cell_type": "code",
   "execution_count": 94,
   "metadata": {
    "collapsed": true
   },
   "outputs": [
    {
     "data": {
      "text/html": [
       "<div>\n",
       "<table border=\"1\" class=\"dataframe\">\n",
       "  <thead>\n",
       "    <tr style=\"text-align: right;\">\n",
       "      <th>q404f1</th>\n",
       "      <th>否</th>\n",
       "      <th>是</th>\n",
       "    </tr>\n",
       "    <tr>\n",
       "      <th>q101d1</th>\n",
       "      <th></th>\n",
       "      <th></th>\n",
       "    </tr>\n",
       "  </thead>\n",
       "  <tbody>\n",
       "    <tr>\n",
       "      <th>上海</th>\n",
       "      <td>0.695122</td>\n",
       "      <td>0.304878</td>\n",
       "    </tr>\n",
       "    <tr>\n",
       "      <th>云南</th>\n",
       "      <td>0.653858</td>\n",
       "      <td>0.346142</td>\n",
       "    </tr>\n",
       "    <tr>\n",
       "      <th>兵团</th>\n",
       "      <td>0.727273</td>\n",
       "      <td>0.272727</td>\n",
       "    </tr>\n",
       "    <tr>\n",
       "      <th>内蒙古</th>\n",
       "      <td>0.670129</td>\n",
       "      <td>0.329871</td>\n",
       "    </tr>\n",
       "    <tr>\n",
       "      <th>北京</th>\n",
       "      <td>0.771739</td>\n",
       "      <td>0.228261</td>\n",
       "    </tr>\n",
       "    <tr>\n",
       "      <th>台湾</th>\n",
       "      <td>1.000000</td>\n",
       "      <td>0.000000</td>\n",
       "    </tr>\n",
       "    <tr>\n",
       "      <th>吉林</th>\n",
       "      <td>0.726963</td>\n",
       "      <td>0.273037</td>\n",
       "    </tr>\n",
       "    <tr>\n",
       "      <th>四川</th>\n",
       "      <td>0.694897</td>\n",
       "      <td>0.305103</td>\n",
       "    </tr>\n",
       "    <tr>\n",
       "      <th>天津</th>\n",
       "      <td>0.751479</td>\n",
       "      <td>0.248521</td>\n",
       "    </tr>\n",
       "    <tr>\n",
       "      <th>宁夏</th>\n",
       "      <td>0.749567</td>\n",
       "      <td>0.250433</td>\n",
       "    </tr>\n",
       "    <tr>\n",
       "      <th>安徽</th>\n",
       "      <td>0.744352</td>\n",
       "      <td>0.255648</td>\n",
       "    </tr>\n",
       "    <tr>\n",
       "      <th>山东</th>\n",
       "      <td>0.787954</td>\n",
       "      <td>0.212046</td>\n",
       "    </tr>\n",
       "    <tr>\n",
       "      <th>山西</th>\n",
       "      <td>0.710938</td>\n",
       "      <td>0.289062</td>\n",
       "    </tr>\n",
       "    <tr>\n",
       "      <th>广东</th>\n",
       "      <td>0.753425</td>\n",
       "      <td>0.246575</td>\n",
       "    </tr>\n",
       "    <tr>\n",
       "      <th>广西</th>\n",
       "      <td>0.740339</td>\n",
       "      <td>0.259661</td>\n",
       "    </tr>\n",
       "    <tr>\n",
       "      <th>新疆</th>\n",
       "      <td>0.738251</td>\n",
       "      <td>0.261749</td>\n",
       "    </tr>\n",
       "    <tr>\n",
       "      <th>江苏</th>\n",
       "      <td>0.752811</td>\n",
       "      <td>0.247189</td>\n",
       "    </tr>\n",
       "    <tr>\n",
       "      <th>江西</th>\n",
       "      <td>0.764803</td>\n",
       "      <td>0.235197</td>\n",
       "    </tr>\n",
       "    <tr>\n",
       "      <th>河北</th>\n",
       "      <td>0.710512</td>\n",
       "      <td>0.289488</td>\n",
       "    </tr>\n",
       "    <tr>\n",
       "      <th>河南</th>\n",
       "      <td>0.726373</td>\n",
       "      <td>0.273627</td>\n",
       "    </tr>\n",
       "    <tr>\n",
       "      <th>浙江</th>\n",
       "      <td>0.740433</td>\n",
       "      <td>0.259567</td>\n",
       "    </tr>\n",
       "    <tr>\n",
       "      <th>海南</th>\n",
       "      <td>0.711963</td>\n",
       "      <td>0.288037</td>\n",
       "    </tr>\n",
       "    <tr>\n",
       "      <th>湖北</th>\n",
       "      <td>0.744280</td>\n",
       "      <td>0.255720</td>\n",
       "    </tr>\n",
       "    <tr>\n",
       "      <th>湖南</th>\n",
       "      <td>0.727558</td>\n",
       "      <td>0.272442</td>\n",
       "    </tr>\n",
       "    <tr>\n",
       "      <th>甘肃</th>\n",
       "      <td>0.706633</td>\n",
       "      <td>0.293367</td>\n",
       "    </tr>\n",
       "    <tr>\n",
       "      <th>福建</th>\n",
       "      <td>0.744588</td>\n",
       "      <td>0.255412</td>\n",
       "    </tr>\n",
       "    <tr>\n",
       "      <th>西藏</th>\n",
       "      <td>0.807692</td>\n",
       "      <td>0.192308</td>\n",
       "    </tr>\n",
       "    <tr>\n",
       "      <th>贵州</th>\n",
       "      <td>0.656189</td>\n",
       "      <td>0.343811</td>\n",
       "    </tr>\n",
       "    <tr>\n",
       "      <th>辽宁</th>\n",
       "      <td>0.723618</td>\n",
       "      <td>0.276382</td>\n",
       "    </tr>\n",
       "    <tr>\n",
       "      <th>重庆</th>\n",
       "      <td>0.698348</td>\n",
       "      <td>0.301652</td>\n",
       "    </tr>\n",
       "    <tr>\n",
       "      <th>陕西</th>\n",
       "      <td>0.707273</td>\n",
       "      <td>0.292727</td>\n",
       "    </tr>\n",
       "    <tr>\n",
       "      <th>青海</th>\n",
       "      <td>0.781504</td>\n",
       "      <td>0.218496</td>\n",
       "    </tr>\n",
       "    <tr>\n",
       "      <th>香港</th>\n",
       "      <td>0.666667</td>\n",
       "      <td>0.333333</td>\n",
       "    </tr>\n",
       "    <tr>\n",
       "      <th>黑龙江</th>\n",
       "      <td>0.705064</td>\n",
       "      <td>0.294936</td>\n",
       "    </tr>\n",
       "  </tbody>\n",
       "</table>\n",
       "</div>"
      ],
      "text/plain": [
       "q404f1         否         是\n",
       "q101d1                    \n",
       "上海      0.695122  0.304878\n",
       "云南      0.653858  0.346142\n",
       "兵团      0.727273  0.272727\n",
       "内蒙古     0.670129  0.329871\n",
       "北京      0.771739  0.228261\n",
       "台湾      1.000000  0.000000\n",
       "吉林      0.726963  0.273037\n",
       "四川      0.694897  0.305103\n",
       "天津      0.751479  0.248521\n",
       "宁夏      0.749567  0.250433\n",
       "安徽      0.744352  0.255648\n",
       "山东      0.787954  0.212046\n",
       "山西      0.710938  0.289062\n",
       "广东      0.753425  0.246575\n",
       "广西      0.740339  0.259661\n",
       "新疆      0.738251  0.261749\n",
       "江苏      0.752811  0.247189\n",
       "江西      0.764803  0.235197\n",
       "河北      0.710512  0.289488\n",
       "河南      0.726373  0.273627\n",
       "浙江      0.740433  0.259567\n",
       "海南      0.711963  0.288037\n",
       "湖北      0.744280  0.255720\n",
       "湖南      0.727558  0.272442\n",
       "甘肃      0.706633  0.293367\n",
       "福建      0.744588  0.255412\n",
       "西藏      0.807692  0.192308\n",
       "贵州      0.656189  0.343811\n",
       "辽宁      0.723618  0.276382\n",
       "重庆      0.698348  0.301652\n",
       "陕西      0.707273  0.292727\n",
       "青海      0.781504  0.218496\n",
       "香港      0.666667  0.333333\n",
       "黑龙江     0.705064  0.294936"
      ]
     },
     "execution_count": 94,
     "metadata": {},
     "output_type": "execute_result"
    }
   ],
   "source": [
    "# 二维列联表 floatsmoke.q101d1户籍地\n",
    "pd.crosstab(floatsmoke.q101d1, floatsmoke.q404f1).apply(lambda r: r/r.sum(),axis=1)"
   ]
  },
  {
   "cell_type": "code",
   "execution_count": 95,
   "metadata": {
    "collapsed": true
   },
   "outputs": [
    {
     "data": {
      "text/html": [
       "<div>\n",
       "<table border=\"1\" class=\"dataframe\">\n",
       "  <thead>\n",
       "    <tr style=\"text-align: right;\">\n",
       "      <th>q404f1</th>\n",
       "      <th>否</th>\n",
       "      <th>是</th>\n",
       "    </tr>\n",
       "    <tr>\n",
       "      <th>q101b1</th>\n",
       "      <th></th>\n",
       "      <th></th>\n",
       "    </tr>\n",
       "  </thead>\n",
       "  <tbody>\n",
       "    <tr>\n",
       "      <th>女</th>\n",
       "      <td>0.972802</td>\n",
       "      <td>0.027198</td>\n",
       "    </tr>\n",
       "    <tr>\n",
       "      <th>男</th>\n",
       "      <td>0.508708</td>\n",
       "      <td>0.491292</td>\n",
       "    </tr>\n",
       "  </tbody>\n",
       "</table>\n",
       "</div>"
      ],
      "text/plain": [
       "q404f1         否         是\n",
       "q101b1                    \n",
       "女       0.972802  0.027198\n",
       "男       0.508708  0.491292"
      ]
     },
     "execution_count": 95,
     "metadata": {},
     "output_type": "execute_result"
    }
   ],
   "source": [
    "pd.crosstab(floatsmoke.q101b1, floatsmoke.q404f1).apply(lambda r: r/r.sum(),axis=1)"
   ]
  },
  {
   "cell_type": "code",
   "execution_count": 11,
   "metadata": {
    "collapsed": false
   },
   "outputs": [],
   "source": [
    "# 日期处理\n",
    "# int转换为str\n",
    "floatsmoke.q101c1.astype('str')\n",
    "floatsmoke['birth'] = pd.to_datetime(floatsmoke.q101c1,format='%Y%m')"
   ]
  },
  {
   "cell_type": "code",
   "execution_count": 12,
   "metadata": {
    "collapsed": true
   },
   "outputs": [],
   "source": [
    "def strlist(string, n):\n",
    "    timestr = []\n",
    "    i = 0\n",
    "    while i < n:\n",
    "        timestr.append(string)\n",
    "        i += 1\n",
    "    return timestr"
   ]
  },
  {
   "cell_type": "code",
   "execution_count": 13,
   "metadata": {
    "collapsed": false
   },
   "outputs": [
    {
     "data": {
      "text/plain": [
       "158556"
      ]
     },
     "execution_count": 13,
     "metadata": {},
     "output_type": "execute_result"
    }
   ],
   "source": [
    "floatsmoke['riqi']=strlist('201205',158556)\n",
    "len(floatsmoke.riqi)"
   ]
  },
  {
   "cell_type": "code",
   "execution_count": 14,
   "metadata": {
    "collapsed": false,
    "scrolled": true
   },
   "outputs": [],
   "source": [
    "floatsmoke.riqi.astype('int')\n",
    "floatsmoke['diaochariqi'] = pd.to_datetime(floatsmoke.riqi,format='%Y%m')"
   ]
  },
  {
   "cell_type": "code",
   "execution_count": 15,
   "metadata": {
    "collapsed": false
   },
   "outputs": [
    {
     "data": {
      "text/plain": [
       "0   1962-12-01\n",
       "1   1954-01-01\n",
       "2   1987-08-01\n",
       "3   1990-02-01\n",
       "4   1971-06-01\n",
       "Name: birth, dtype: datetime64[ns]"
      ]
     },
     "execution_count": 15,
     "metadata": {},
     "output_type": "execute_result"
    }
   ],
   "source": [
    "floatsmoke['birth'].head()"
   ]
  },
  {
   "cell_type": "code",
   "execution_count": 16,
   "metadata": {
    "collapsed": false
   },
   "outputs": [
    {
     "data": {
      "text/plain": [
       "0   2012-05-01\n",
       "1   2012-05-01\n",
       "2   2012-05-01\n",
       "3   2012-05-01\n",
       "4   2012-05-01\n",
       "Name: diaochariqi, dtype: datetime64[ns]"
      ]
     },
     "execution_count": 16,
     "metadata": {},
     "output_type": "execute_result"
    }
   ],
   "source": [
    "floatsmoke['diaochariqi'].head()"
   ]
  },
  {
   "cell_type": "code",
   "execution_count": 17,
   "metadata": {
    "collapsed": true
   },
   "outputs": [],
   "source": [
    "floatsmoke['Difference'] = floatsmoke['diaochariqi'].sub(floatsmoke['birth'])"
   ]
  },
  {
   "cell_type": "code",
   "execution_count": 18,
   "metadata": {
    "collapsed": false,
    "scrolled": true
   },
   "outputs": [],
   "source": [
    "floatsmoke['Age'] = round(floatsmoke['Difference'].dt.days/365.25).astype(int)"
   ]
  },
  {
   "cell_type": "code",
   "execution_count": 19,
   "metadata": {
    "collapsed": false
   },
   "outputs": [
    {
     "data": {
      "text/plain": [
       "15-30    66209\n",
       "30-40    53046\n",
       "40-50    34036\n",
       "50-60     5265\n",
       "Name: Age, dtype: int64"
      ]
     },
     "execution_count": 19,
     "metadata": {},
     "output_type": "execute_result"
    }
   ],
   "source": [
    "pd.cut(floatsmoke.Age,[14,30,40,50,61],labels=['15-30','30-40','40-50','50-60']).value_counts()"
   ]
  },
  {
   "cell_type": "code",
   "execution_count": 20,
   "metadata": {
    "collapsed": true
   },
   "outputs": [],
   "source": [
    "floatsmoke['Agegroup'] = pd.cut(floatsmoke.Age,[14,30,40,50,61],labels=['15-30','30-40','40-50','50-60'])"
   ]
  },
  {
   "cell_type": "code",
   "execution_count": 21,
   "metadata": {
    "collapsed": false
   },
   "outputs": [
    {
     "data": {
      "text/html": [
       "<div>\n",
       "<table border=\"1\" class=\"dataframe\">\n",
       "  <thead>\n",
       "    <tr style=\"text-align: right;\">\n",
       "      <th>q404f1</th>\n",
       "      <th>否</th>\n",
       "      <th>是</th>\n",
       "    </tr>\n",
       "    <tr>\n",
       "      <th>Agegroup</th>\n",
       "      <th></th>\n",
       "      <th></th>\n",
       "    </tr>\n",
       "  </thead>\n",
       "  <tbody>\n",
       "    <tr>\n",
       "      <th>15-30</th>\n",
       "      <td>0.777115</td>\n",
       "      <td>0.222885</td>\n",
       "    </tr>\n",
       "    <tr>\n",
       "      <th>30-40</th>\n",
       "      <td>0.720582</td>\n",
       "      <td>0.279418</td>\n",
       "    </tr>\n",
       "    <tr>\n",
       "      <th>40-50</th>\n",
       "      <td>0.659449</td>\n",
       "      <td>0.340551</td>\n",
       "    </tr>\n",
       "    <tr>\n",
       "      <th>50-60</th>\n",
       "      <td>0.580627</td>\n",
       "      <td>0.419373</td>\n",
       "    </tr>\n",
       "  </tbody>\n",
       "</table>\n",
       "</div>"
      ],
      "text/plain": [
       "q404f1           否         是\n",
       "Agegroup                    \n",
       "15-30     0.777115  0.222885\n",
       "30-40     0.720582  0.279418\n",
       "40-50     0.659449  0.340551\n",
       "50-60     0.580627  0.419373"
      ]
     },
     "execution_count": 21,
     "metadata": {},
     "output_type": "execute_result"
    }
   ],
   "source": [
    "# 二维列联表 floatsmoke.pro_name省份\n",
    "pd.crosstab(floatsmoke.Agegroup, floatsmoke.q404f1).apply(lambda r: r/r.sum(),axis=1)"
   ]
  },
  {
   "cell_type": "code",
   "execution_count": 22,
   "metadata": {
    "collapsed": true
   },
   "outputs": [],
   "source": [
    "# 保留变量\n",
    "columns=['pro_name','q101b1','Agegroup','q101e1','q101f1','q101g1','q101h1','q101i1','q101k1','q202','q203','q204',\n",
    "         'q211','q213','q402','q404b1','q404c1','q404d1','q404e1','q404f1','q405a','q405c','q405d','q406']"
   ]
  },
  {
   "cell_type": "markdown",
   "metadata": {},
   "source": [
    "# 保存了 fs.xlsx"
   ]
  },
  {
   "cell_type": "code",
   "execution_count": 23,
   "metadata": {
    "collapsed": false,
    "scrolled": true
   },
   "outputs": [],
   "source": [
    "fs = floatsmoke[columns]\n",
    "fs.head(n=2)\n",
    "fs.to_excel('./fs.xlsx')\n",
    "#fs.to_csv('./fs.csv') 乱码"
   ]
  },
  {
   "cell_type": "markdown",
   "metadata": {},
   "source": [
    "# 保存了 fs.xlsx"
   ]
  },
  {
   "cell_type": "code",
   "execution_count": 109,
   "metadata": {
    "collapsed": true
   },
   "outputs": [
    {
     "data": {
      "text/plain": [
       "pro_name    0\n",
       "q101b1      0\n",
       "Agegroup    0\n",
       "q101e1      0\n",
       "q101f1      0\n",
       "q101g1      0\n",
       "q101h1      0\n",
       "q101i1      0\n",
       "q101k1      0\n",
       "q202        0\n",
       "q203        0\n",
       "q204        0\n",
       "q211        0\n",
       "q213        0\n",
       "q402        0\n",
       "q404b1      0\n",
       "q404c1      0\n",
       "q404d1      0\n",
       "q404e1      0\n",
       "q404f1      0\n",
       "q405a       0\n",
       "q405c       0\n",
       "q405d       0\n",
       "q406        0\n",
       "dtype: int64"
      ]
     },
     "execution_count": 109,
     "metadata": {},
     "output_type": "execute_result"
    }
   ],
   "source": [
    "# 查看缺失 null\n",
    "fs.isnull().sum()\n",
    "# \n",
    "fs['q203']==' '\n",
    "# \n",
    "fs.loc[fs['q203']==' ',['q203']] "
   ]
  },
  {
   "cell_type": "code",
   "execution_count": null,
   "metadata": {
    "collapsed": true
   },
   "outputs": [],
   "source": [
    "# 查看缺失\n",
    "tbrecurrence.isnull().sum().sort_values(ascending=False).head(10)"
   ]
  },
  {
   "cell_type": "code",
   "execution_count": 73,
   "metadata": {
    "collapsed": false,
    "scrolled": true
   },
   "outputs": [],
   "source": [
    "for col in columns:\n",
    "    a=['其他' if ' ' in x else x for x in fs[col].tolist()]"
   ]
  },
  {
   "cell_type": "code",
   "execution_count": 60,
   "metadata": {
    "collapsed": true
   },
   "outputs": [
    {
     "data": {
      "text/html": [
       "<div>\n",
       "<table border=\"1\" class=\"dataframe\">\n",
       "  <thead>\n",
       "    <tr style=\"text-align: right;\">\n",
       "      <th></th>\n",
       "      <th>0</th>\n",
       "      <th>1</th>\n",
       "      <th>2</th>\n",
       "      <th>3</th>\n",
       "    </tr>\n",
       "  </thead>\n",
       "  <tbody>\n",
       "    <tr>\n",
       "      <th>0</th>\n",
       "      <td>0.054560</td>\n",
       "      <td>0.888118</td>\n",
       "      <td>0.506589</td>\n",
       "      <td>-0.845290</td>\n",
       "    </tr>\n",
       "    <tr>\n",
       "      <th>1</th>\n",
       "      <td>-0.106216</td>\n",
       "      <td>0.212371</td>\n",
       "      <td>0.783886</td>\n",
       "      <td>-0.914115</td>\n",
       "    </tr>\n",
       "    <tr>\n",
       "      <th>2</th>\n",
       "      <td>0.810219</td>\n",
       "      <td>-0.722694</td>\n",
       "      <td>-0.597202</td>\n",
       "      <td>-1.731766</td>\n",
       "    </tr>\n",
       "    <tr>\n",
       "      <th>3</th>\n",
       "      <td>1.123853</td>\n",
       "      <td>-1.199366</td>\n",
       "      <td>0.618577</td>\n",
       "      <td>0.978447</td>\n",
       "    </tr>\n",
       "    <tr>\n",
       "      <th>4</th>\n",
       "      <td>-0.310111</td>\n",
       "      <td>0.364754</td>\n",
       "      <td>-0.407979</td>\n",
       "      <td>0.133956</td>\n",
       "    </tr>\n",
       "    <tr>\n",
       "      <th>5</th>\n",
       "      <td>1.106091</td>\n",
       "      <td>-1.204241</td>\n",
       "      <td>0.194938</td>\n",
       "      <td>0.498619</td>\n",
       "    </tr>\n",
       "    <tr>\n",
       "      <th>6</th>\n",
       "      <td>-0.802735</td>\n",
       "      <td>-1.975619</td>\n",
       "      <td>-0.264963</td>\n",
       "      <td>-0.527977</td>\n",
       "    </tr>\n",
       "    <tr>\n",
       "      <th>7</th>\n",
       "      <td>1.698055</td>\n",
       "      <td>-1.073832</td>\n",
       "      <td>-1.085620</td>\n",
       "      <td>-0.901051</td>\n",
       "    </tr>\n",
       "    <tr>\n",
       "      <th>8</th>\n",
       "      <td>1.558132</td>\n",
       "      <td>0.516783</td>\n",
       "      <td>0.565488</td>\n",
       "      <td>0.544565</td>\n",
       "    </tr>\n",
       "    <tr>\n",
       "      <th>9</th>\n",
       "      <td>-1.423910</td>\n",
       "      <td>0.108038</td>\n",
       "      <td>0.326057</td>\n",
       "      <td>0.965763</td>\n",
       "    </tr>\n",
       "  </tbody>\n",
       "</table>\n",
       "</div>"
      ],
      "text/plain": [
       "          0         1         2         3\n",
       "0  0.054560  0.888118  0.506589 -0.845290\n",
       "1 -0.106216  0.212371  0.783886 -0.914115\n",
       "2  0.810219 -0.722694 -0.597202 -1.731766\n",
       "3  1.123853 -1.199366  0.618577  0.978447\n",
       "4 -0.310111  0.364754 -0.407979  0.133956\n",
       "5  1.106091 -1.204241  0.194938  0.498619\n",
       "6 -0.802735 -1.975619 -0.264963 -0.527977\n",
       "7  1.698055 -1.073832 -1.085620 -0.901051\n",
       "8  1.558132  0.516783  0.565488  0.544565\n",
       "9 -1.423910  0.108038  0.326057  0.965763"
      ]
     },
     "execution_count": 60,
     "metadata": {},
     "output_type": "execute_result"
    }
   ],
   "source": [
    "# 随机生成dataframe\n",
    "import numpy as np\n",
    "pd.DataFrame(np.random.randn(10, 4))"
   ]
  },
  {
   "cell_type": "code",
   "execution_count": 74,
   "metadata": {
    "collapsed": true
   },
   "outputs": [],
   "source": [
    "from sklearn.linear_model import LogisticRegression"
   ]
  },
  {
   "cell_type": "code",
   "execution_count": 75,
   "metadata": {
    "collapsed": true
   },
   "outputs": [],
   "source": [
    "lr = LogisticRegression()"
   ]
  },
  {
   "cell_type": "code",
   "execution_count": 40,
   "metadata": {
    "collapsed": false
   },
   "outputs": [],
   "source": [
    "Y = fs.loc[:,'q404f1']\n",
    "y = (Y =='是').astype(int)\n",
    "X = fs.drop('q404f1',axis = 1)\n",
    "X = pd.get_dummies(X)"
   ]
  },
  {
   "cell_type": "code",
   "execution_count": 104,
   "metadata": {
    "collapsed": false
   },
   "outputs": [],
   "source": [
    "model = lr.fit(X, y)"
   ]
  },
  {
   "cell_type": "code",
   "execution_count": 106,
   "metadata": {
    "collapsed": false
   },
   "outputs": [
    {
     "data": {
      "text/html": [
       "<div>\n",
       "<table border=\"1\" class=\"dataframe\">\n",
       "  <thead>\n",
       "    <tr style=\"text-align: right;\">\n",
       "      <th>col_0</th>\n",
       "      <th>否</th>\n",
       "      <th>是</th>\n",
       "    </tr>\n",
       "    <tr>\n",
       "      <th>q404f1</th>\n",
       "      <th></th>\n",
       "      <th></th>\n",
       "    </tr>\n",
       "  </thead>\n",
       "  <tbody>\n",
       "    <tr>\n",
       "      <th>否</th>\n",
       "      <td>98591</td>\n",
       "      <td>16587</td>\n",
       "    </tr>\n",
       "    <tr>\n",
       "      <th>是</th>\n",
       "      <td>18669</td>\n",
       "      <td>24709</td>\n",
       "    </tr>\n",
       "  </tbody>\n",
       "</table>\n",
       "</div>"
      ],
      "text/plain": [
       "col_0       否      是\n",
       "q404f1              \n",
       "否       98591  16587\n",
       "是       18669  24709"
      ]
     },
     "execution_count": 106,
     "metadata": {},
     "output_type": "execute_result"
    }
   ],
   "source": [
    "model.predict(X)\n",
    "pd.crosstab(y,model.predict(X))"
   ]
  },
  {
   "cell_type": "code",
   "execution_count": 100,
   "metadata": {
    "collapsed": false,
    "scrolled": false
   },
   "outputs": [
    {
     "name": "stderr",
     "output_type": "stream",
     "text": [
      "/Users/zhangle/anaconda3/lib/python3.6/site-packages/sklearn/cross_validation.py:44: DeprecationWarning: This module was deprecated in version 0.18 in favor of the model_selection module into which all the refactored classes and functions are moved. Also note that the interface of the new CV iterators are different from that of this module. This module will be removed in 0.20.\n",
      "  \"This module will be removed in 0.20.\", DeprecationWarning)\n"
     ]
    },
    {
     "data": {
      "text/html": [
       "<div>\n",
       "<table border=\"1\" class=\"dataframe\">\n",
       "  <thead>\n",
       "    <tr style=\"text-align: right;\">\n",
       "      <th>col_0</th>\n",
       "      <th>否</th>\n",
       "      <th>是</th>\n",
       "    </tr>\n",
       "    <tr>\n",
       "      <th>q404f1</th>\n",
       "      <th></th>\n",
       "      <th></th>\n",
       "    </tr>\n",
       "  </thead>\n",
       "  <tbody>\n",
       "    <tr>\n",
       "      <th>否</th>\n",
       "      <td>100345</td>\n",
       "      <td>14833</td>\n",
       "    </tr>\n",
       "    <tr>\n",
       "      <th>是</th>\n",
       "      <td>20675</td>\n",
       "      <td>22703</td>\n",
       "    </tr>\n",
       "  </tbody>\n",
       "</table>\n",
       "</div>"
      ],
      "text/plain": [
       "col_0        否      是\n",
       "q404f1               \n",
       "否       100345  14833\n",
       "是        20675  22703"
      ]
     },
     "execution_count": 100,
     "metadata": {},
     "output_type": "execute_result"
    }
   ],
   "source": [
    "import xgboost\n",
    "model = xgboost.XGBClassifier(min_child_weight= 10, subsample=0.8, colsample_bytree = 0.8, \n",
    "                              scale_pos_weight =1, max_depth=4, \n",
    "                              objective = 'binary:logistic', learning_rate=0.01,\n",
    "                              n_estimators=500, reg_alpha=0.005)\n",
    "model.fit(X, y)\n",
    "pd.crosstab(y,model.predict(X))"
   ]
  },
  {
   "cell_type": "code",
   "execution_count": 103,
   "metadata": {
    "collapsed": false
   },
   "outputs": [
    {
     "data": {
      "text/html": [
       "<div>\n",
       "<table border=\"1\" class=\"dataframe\">\n",
       "  <thead>\n",
       "    <tr style=\"text-align: right;\">\n",
       "      <th>col_0</th>\n",
       "      <th>否</th>\n",
       "      <th>是</th>\n",
       "    </tr>\n",
       "    <tr>\n",
       "      <th>q404f1</th>\n",
       "      <th></th>\n",
       "      <th></th>\n",
       "    </tr>\n",
       "  </thead>\n",
       "  <tbody>\n",
       "    <tr>\n",
       "      <th>否</th>\n",
       "      <td>100087</td>\n",
       "      <td>15091</td>\n",
       "    </tr>\n",
       "    <tr>\n",
       "      <th>是</th>\n",
       "      <td>20110</td>\n",
       "      <td>23268</td>\n",
       "    </tr>\n",
       "  </tbody>\n",
       "</table>\n",
       "</div>"
      ],
      "text/plain": [
       "col_0        否      是\n",
       "q404f1               \n",
       "否       100087  15091\n",
       "是        20110  23268"
      ]
     },
     "execution_count": 103,
     "metadata": {},
     "output_type": "execute_result"
    }
   ],
   "source": [
    "import xgboost\n",
    "model = xgboost.XGBClassifier()\n",
    "model.fit(X, y)\n",
    "pd.crosstab(y,model.predict(X))"
   ]
  },
  {
   "cell_type": "code",
   "execution_count": 102,
   "metadata": {
    "collapsed": false
   },
   "outputs": [
    {
     "data": {
      "text/plain": [
       "否    115178\n",
       "是     43378\n",
       "Name: q404f1, dtype: int64"
      ]
     },
     "execution_count": 102,
     "metadata": {},
     "output_type": "execute_result"
    }
   ],
   "source": [
    "fs.q404f1.value_counts()"
   ]
  },
  {
   "cell_type": "code",
   "execution_count": null,
   "metadata": {
    "collapsed": true
   },
   "outputs": [],
   "source": [
    "from sklearn import svm\n",
    "svc = svm.SVC(kernel='linear')\n",
    "model = svc.fit(X, y)\n",
    "pd.crosstab(y,model.predict(X))"
   ]
  },
  {
   "cell_type": "code",
   "execution_count": null,
   "metadata": {
    "collapsed": false,
    "scrolled": true
   },
   "outputs": [],
   "source": [
    "import numpy as np\n",
    "from sklearn.ensemble import RandomForestClassifier\n",
    "from sklearn.model_selection import cross_val_score\n",
    "max_features =  [.1, .3, .5, .7, .9 , .99]\n",
    "test_scores = []\n",
    "for max_feat in max_features:\n",
    "    rfc = RandomForestClassifier(n_estimators=200, max_features=max_feat, oob_score=True)\n",
    "    test_score = np.sqrt(-cross_val_score(rfc, X, y, cv=5, \n",
    "                                          scoring='neg_mean_squared_error'))\n",
    "    test_scores.append(np.mean(test_score))\n",
    "plt.plot(max_features, test_scores)\n",
    "plt.title('Max Features vs CV Error')"
   ]
  },
  {
   "cell_type": "code",
   "execution_count": null,
   "metadata": {
    "collapsed": true
   },
   "outputs": [],
   "source": [
    "rfc = RandomForestClassifier(n_estimators=200, max_features=6, oob_score=True)\n",
    "model = rfc.fit(X_train_resampled.astype(uint8), y_train_resampled)"
   ]
  }
 ],
 "metadata": {
  "kernelspec": {
   "display_name": "Python 3",
   "language": "python",
   "name": "python3"
  },
  "language_info": {
   "codemirror_mode": {
    "name": "ipython",
    "version": 3
   },
   "file_extension": ".py",
   "mimetype": "text/x-python",
   "name": "python",
   "nbconvert_exporter": "python",
   "pygments_lexer": "ipython3",
   "version": "3.6.0"
  }
 },
 "nbformat": 4,
 "nbformat_minor": 2
}
