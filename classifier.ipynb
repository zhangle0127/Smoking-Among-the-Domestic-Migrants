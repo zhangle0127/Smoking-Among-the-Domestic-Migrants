{
 "cells": [
  {
   "cell_type": "code",
   "execution_count": 1,
   "metadata": {
    "collapsed": false
   },
   "outputs": [],
   "source": [
    "import pandas as pd\n",
    "import os\n",
    "path = '/Users/zhangle/百度云同步盘/工作/floating/floatingpopulation/floatdata/2012/2012part'\n",
    "os.chdir(path)\n",
    "fs = pd.read_excel('fs.xlsx')"
   ]
  },
  {
   "cell_type": "code",
   "execution_count": 2,
   "metadata": {
    "collapsed": false
   },
   "outputs": [
    {
     "data": {
      "text/html": [
       "<div>\n",
       "<table border=\"1\" class=\"dataframe\">\n",
       "  <thead>\n",
       "    <tr style=\"text-align: right;\">\n",
       "      <th></th>\n",
       "      <th>pro_name</th>\n",
       "      <th>q101b1</th>\n",
       "      <th>Agegroup</th>\n",
       "      <th>q101e1</th>\n",
       "      <th>q101f1</th>\n",
       "      <th>q101g1</th>\n",
       "      <th>q101h1</th>\n",
       "      <th>q101i1</th>\n",
       "      <th>q101k1</th>\n",
       "      <th>q202</th>\n",
       "      <th>...</th>\n",
       "      <th>q402</th>\n",
       "      <th>q404b1</th>\n",
       "      <th>q404c1</th>\n",
       "      <th>q404d1</th>\n",
       "      <th>q404e1</th>\n",
       "      <th>q404f1</th>\n",
       "      <th>q405a</th>\n",
       "      <th>q405c</th>\n",
       "      <th>q405d</th>\n",
       "      <th>q406</th>\n",
       "    </tr>\n",
       "  </thead>\n",
       "  <tbody>\n",
       "    <tr>\n",
       "      <th>0</th>\n",
       "      <td>北京市</td>\n",
       "      <td>女</td>\n",
       "      <td>40-50</td>\n",
       "      <td>汉族</td>\n",
       "      <td>大学本科</td>\n",
       "      <td>非农业</td>\n",
       "      <td>初婚</td>\n",
       "      <td>就业</td>\n",
       "      <td>跨省流动</td>\n",
       "      <td>就业</td>\n",
       "      <td>...</td>\n",
       "      <td>很少与人来往</td>\n",
       "      <td>否</td>\n",
       "      <td>是</td>\n",
       "      <td>是</td>\n",
       "      <td>是</td>\n",
       "      <td>否</td>\n",
       "      <td>完全同意</td>\n",
       "      <td>完全同意</td>\n",
       "      <td>基本同意</td>\n",
       "      <td>很幸福</td>\n",
       "    </tr>\n",
       "    <tr>\n",
       "      <th>1</th>\n",
       "      <td>北京市</td>\n",
       "      <td>女</td>\n",
       "      <td>50-60</td>\n",
       "      <td>汉族</td>\n",
       "      <td>大学专科</td>\n",
       "      <td>非农业</td>\n",
       "      <td>离婚</td>\n",
       "      <td>就业</td>\n",
       "      <td>跨省流动</td>\n",
       "      <td>就业</td>\n",
       "      <td>...</td>\n",
       "      <td>其他本地人</td>\n",
       "      <td>否</td>\n",
       "      <td>是</td>\n",
       "      <td>是</td>\n",
       "      <td>是</td>\n",
       "      <td>否</td>\n",
       "      <td>完全同意</td>\n",
       "      <td>完全同意</td>\n",
       "      <td>基本同意</td>\n",
       "      <td>一般</td>\n",
       "    </tr>\n",
       "  </tbody>\n",
       "</table>\n",
       "<p>2 rows × 24 columns</p>\n",
       "</div>"
      ],
      "text/plain": [
       "  pro_name q101b1 Agegroup q101e1 q101f1 q101g1 q101h1 q101i1 q101k1 q202  \\\n",
       "0      北京市      女    40-50     汉族   大学本科    非农业     初婚     就业   跨省流动   就业   \n",
       "1      北京市      女    50-60     汉族   大学专科    非农业     离婚     就业   跨省流动   就业   \n",
       "\n",
       "  ...     q402 q404b1 q404c1 q404d1 q404e1 q404f1 q405a q405c q405d q406  \n",
       "0 ...   很少与人来往      否      是      是      是      否  完全同意  完全同意  基本同意  很幸福  \n",
       "1 ...    其他本地人      否      是      是      是      否  完全同意  完全同意  基本同意   一般  \n",
       "\n",
       "[2 rows x 24 columns]"
      ]
     },
     "execution_count": 2,
     "metadata": {},
     "output_type": "execute_result"
    }
   ],
   "source": [
    "fs.head(n=2)"
   ]
  },
  {
   "cell_type": "code",
   "execution_count": 3,
   "metadata": {
    "collapsed": true
   },
   "outputs": [],
   "source": [
    "Y = fs.loc[:,'q404f1']\n",
    "y = (Y =='是').astype(int)\n",
    "X = fs.drop('q404f1',axis = 1)\n",
    "X = pd.get_dummies(X)"
   ]
  },
  {
   "cell_type": "code",
   "execution_count": 14,
   "metadata": {
    "collapsed": false
   },
   "outputs": [],
   "source": [
    "from sklearn.ensemble import RandomForestClassifier\n",
    "rfc = RandomForestClassifier(n_estimators=200, max_features=6, oob_score=True)\n",
    "model = rfc.fit(X, y)"
   ]
  },
  {
   "cell_type": "code",
   "execution_count": 15,
   "metadata": {
    "collapsed": false
   },
   "outputs": [
    {
     "data": {
      "text/html": [
       "<div>\n",
       "<table border=\"1\" class=\"dataframe\">\n",
       "  <thead>\n",
       "    <tr style=\"text-align: right;\">\n",
       "      <th>q404f1</th>\n",
       "      <th>0</th>\n",
       "      <th>1</th>\n",
       "    </tr>\n",
       "    <tr>\n",
       "      <th>row_0</th>\n",
       "      <th></th>\n",
       "      <th></th>\n",
       "    </tr>\n",
       "  </thead>\n",
       "  <tbody>\n",
       "    <tr>\n",
       "      <th>0</th>\n",
       "      <td>114741</td>\n",
       "      <td>489</td>\n",
       "    </tr>\n",
       "    <tr>\n",
       "      <th>1</th>\n",
       "      <td>437</td>\n",
       "      <td>42889</td>\n",
       "    </tr>\n",
       "  </tbody>\n",
       "</table>\n",
       "</div>"
      ],
      "text/plain": [
       "q404f1       0      1\n",
       "row_0                \n",
       "0       114741    489\n",
       "1          437  42889"
      ]
     },
     "execution_count": 15,
     "metadata": {},
     "output_type": "execute_result"
    }
   ],
   "source": [
    "pd.crosstab(model.predict(X),y)"
   ]
  },
  {
   "cell_type": "code",
   "execution_count": 16,
   "metadata": {
    "collapsed": true
   },
   "outputs": [],
   "source": [
    "from sklearn.linear_model import LogisticRegression\n",
    "lr = LogisticRegression()\n",
    "model = lr.fit(X, y)"
   ]
  },
  {
   "cell_type": "code",
   "execution_count": 17,
   "metadata": {
    "collapsed": false
   },
   "outputs": [
    {
     "data": {
      "text/html": [
       "<div>\n",
       "<table border=\"1\" class=\"dataframe\">\n",
       "  <thead>\n",
       "    <tr style=\"text-align: right;\">\n",
       "      <th>q404f1</th>\n",
       "      <th>0</th>\n",
       "      <th>1</th>\n",
       "    </tr>\n",
       "    <tr>\n",
       "      <th>row_0</th>\n",
       "      <th></th>\n",
       "      <th></th>\n",
       "    </tr>\n",
       "  </thead>\n",
       "  <tbody>\n",
       "    <tr>\n",
       "      <th>0</th>\n",
       "      <td>98591</td>\n",
       "      <td>18669</td>\n",
       "    </tr>\n",
       "    <tr>\n",
       "      <th>1</th>\n",
       "      <td>16587</td>\n",
       "      <td>24709</td>\n",
       "    </tr>\n",
       "  </tbody>\n",
       "</table>\n",
       "</div>"
      ],
      "text/plain": [
       "q404f1      0      1\n",
       "row_0               \n",
       "0       98591  18669\n",
       "1       16587  24709"
      ]
     },
     "execution_count": 17,
     "metadata": {},
     "output_type": "execute_result"
    }
   ],
   "source": [
    "pd.crosstab(model.predict(X),y)"
   ]
  },
  {
   "cell_type": "code",
   "execution_count": null,
   "metadata": {
    "collapsed": true
   },
   "outputs": [],
   "source": []
  }
 ],
 "metadata": {
  "kernelspec": {
   "display_name": "Python 3",
   "language": "python",
   "name": "python3"
  },
  "language_info": {
   "codemirror_mode": {
    "name": "ipython",
    "version": 3
   },
   "file_extension": ".py",
   "mimetype": "text/x-python",
   "name": "python",
   "nbconvert_exporter": "python",
   "pygments_lexer": "ipython3",
   "version": "3.6.0"
  }
 },
 "nbformat": 4,
 "nbformat_minor": 2
}
